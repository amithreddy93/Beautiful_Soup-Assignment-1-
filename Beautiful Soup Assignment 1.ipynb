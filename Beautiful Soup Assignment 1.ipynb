{
 "cells": [
  {
   "cell_type": "markdown",
   "metadata": {},
   "source": [
    "# Display of all the header tags from ‘en.wikipedia.org/wiki/Main_Page’"
   ]
  },
  {
   "cell_type": "code",
   "execution_count": 129,
   "metadata": {},
   "outputs": [
    {
     "data": {
      "text/plain": [
       "[<h1 class=\"firstHeading\" id=\"firstHeading\">Main Page</h1>,\n",
       " <h2 class=\"mp-h2\" id=\"mp-tfa-h2\"><span id=\"From_today.27s_featured_article\"></span><span class=\"mw-headline\" id=\"From_today's_featured_article\">From today's featured article</span></h2>,\n",
       " <h2 class=\"mp-h2\" id=\"mp-dyk-h2\"><span class=\"mw-headline\" id=\"Did_you_know_...\">Did you know ...</span></h2>,\n",
       " <h2 class=\"mp-h2\" id=\"mp-itn-h2\"><span class=\"mw-headline\" id=\"In_the_news\">In the news</span></h2>,\n",
       " <h2 class=\"mp-h2\" id=\"mp-otd-h2\"><span class=\"mw-headline\" id=\"On_this_day\">On this day</span></h2>,\n",
       " <h2 class=\"mp-h2\" id=\"mp-tfp-h2\"><span id=\"Today.27s_featured_picture\"></span><span class=\"mw-headline\" id=\"Today's_featured_picture\">Today's featured picture</span></h2>,\n",
       " <h2 class=\"mp-h2\" id=\"mp-other\"><span class=\"mw-headline\" id=\"Other_areas_of_Wikipedia\">Other areas of Wikipedia</span></h2>,\n",
       " <h2 class=\"mp-h2\" id=\"mp-sister\"><span id=\"Wikipedia.27s_sister_projects\"></span><span class=\"mw-headline\" id=\"Wikipedia's_sister_projects\">Wikipedia's sister projects</span></h2>,\n",
       " <h2 class=\"mp-h2\" id=\"mp-lang\"><span class=\"mw-headline\" id=\"Wikipedia_languages\">Wikipedia languages</span></h2>,\n",
       " <h2>Navigation menu</h2>,\n",
       " <h3 class=\"vector-menu-heading\" id=\"p-personal-label\">\n",
       " <span>Personal tools</span>\n",
       " </h3>,\n",
       " <h3 class=\"vector-menu-heading\" id=\"p-namespaces-label\">\n",
       " <span>Namespaces</span>\n",
       " </h3>,\n",
       " <h3 class=\"vector-menu-heading\" id=\"p-variants-label\">\n",
       " <span>Variants</span>\n",
       " </h3>,\n",
       " <h3 class=\"vector-menu-heading\" id=\"p-views-label\">\n",
       " <span>Views</span>\n",
       " </h3>,\n",
       " <h3 class=\"vector-menu-heading\" id=\"p-cactions-label\">\n",
       " <span>More</span>\n",
       " </h3>,\n",
       " <h3>\n",
       " <label for=\"searchInput\">Search</label>\n",
       " </h3>,\n",
       " <h3 class=\"vector-menu-heading\" id=\"p-navigation-label\">\n",
       " <span>Navigation</span>\n",
       " </h3>,\n",
       " <h3 class=\"vector-menu-heading\" id=\"p-interaction-label\">\n",
       " <span>Contribute</span>\n",
       " </h3>,\n",
       " <h3 class=\"vector-menu-heading\" id=\"p-tb-label\">\n",
       " <span>Tools</span>\n",
       " </h3>,\n",
       " <h3 class=\"vector-menu-heading\" id=\"p-coll-print_export-label\">\n",
       " <span>Print/export</span>\n",
       " </h3>,\n",
       " <h3 class=\"vector-menu-heading\" id=\"p-wikibase-otherprojects-label\">\n",
       " <span>In other projects</span>\n",
       " </h3>,\n",
       " <h3 class=\"vector-menu-heading\" id=\"p-lang-label\">\n",
       " <span>Languages</span>\n",
       " </h3>]"
      ]
     },
     "execution_count": 129,
     "metadata": {},
     "output_type": "execute_result"
    }
   ],
   "source": [
    "import requests\n",
    "from bs4 import BeautifulSoup\n",
    "wiki_html = requests.get(\"https://en.wikipedia.org/wiki/Main_Page\")\n",
    "bs = BeautifulSoup(wiki_html.content)\n",
    "header_tags = bs.find_all(['h1','h2','h3'])\n",
    "header_tags"
   ]
  },
  {
   "cell_type": "markdown",
   "metadata": {},
   "source": [
    "# Display of IMDB’s Top rated 100 movies"
   ]
  },
  {
   "cell_type": "code",
   "execution_count": 130,
   "metadata": {},
   "outputs": [
    {
     "data": {
      "text/plain": [
       "<Response [200]>"
      ]
     },
     "execution_count": 130,
     "metadata": {},
     "output_type": "execute_result"
    }
   ],
   "source": [
    "from urllib.request import urlopen\n",
    "imdb_html = requests.get(' https://www.imdb.com/chart/top/')\n",
    "imdb_html"
   ]
  },
  {
   "cell_type": "code",
   "execution_count": 131,
   "metadata": {},
   "outputs": [],
   "source": [
    "bs_imdb = BeautifulSoup(imdb_html.content,'html.parser')"
   ]
  },
  {
   "cell_type": "code",
   "execution_count": null,
   "metadata": {},
   "outputs": [],
   "source": []
  },
  {
   "cell_type": "code",
   "execution_count": 132,
   "metadata": {},
   "outputs": [],
   "source": [
    "movie_name = bs_imdb.find_all('td',class_=\"titleColumn\")\n",
    "movie_names_list = []\n",
    "for i in movie_name:\n",
    "    for j in i.find_all('a'):\n",
    "        movie_names_list.append(j.get_text('a'))\n",
    "movie_list = movie_names_list[:100]\n"
   ]
  },
  {
   "cell_type": "code",
   "execution_count": 133,
   "metadata": {},
   "outputs": [],
   "source": [
    "movie_year = bs_imdb.find_all('td',class_=\"titleColumn\")\n",
    "movie_year_list = []\n",
    "for i in movie_year:\n",
    "    for j in i.find('span',class_=\"secondaryInfo\"):\n",
    "        movie_year_list.append(j.replace(\"(\",'').replace(\")\",''))\n",
    "movie_year_lists = movie_year_list[:100]"
   ]
  },
  {
   "cell_type": "code",
   "execution_count": 134,
   "metadata": {},
   "outputs": [],
   "source": [
    "movie_rating = bs_imdb.find_all('td',class_=\"ratingColumn imdbRating\")\n",
    "movie_rating_list = []\n",
    "for i in movie_rating:\n",
    "    for j in i.find_all('strong'):\n",
    "        movie_rating_list.append(j.get_text('strong'))\n",
    "movie_ratings_lists = movie_rating_list[:100]"
   ]
  },
  {
   "cell_type": "code",
   "execution_count": 135,
   "metadata": {},
   "outputs": [],
   "source": [
    "import pandas as pd\n",
    "Top100_movie_ratinglist = pd.DataFrame({})\n",
    "Top100_movie_ratinglist['movie_name'] = movie_list\n",
    "Top100_movie_ratinglist['movie_year'] = movie_year_lists\n",
    "Top100_movie_ratinglist['movie_rating'] = movie_ratings_lists"
   ]
  },
  {
   "cell_type": "code",
   "execution_count": 136,
   "metadata": {},
   "outputs": [
    {
     "data": {
      "text/html": [
       "<div>\n",
       "<style scoped>\n",
       "    .dataframe tbody tr th:only-of-type {\n",
       "        vertical-align: middle;\n",
       "    }\n",
       "\n",
       "    .dataframe tbody tr th {\n",
       "        vertical-align: top;\n",
       "    }\n",
       "\n",
       "    .dataframe thead th {\n",
       "        text-align: right;\n",
       "    }\n",
       "</style>\n",
       "<table border=\"1\" class=\"dataframe\">\n",
       "  <thead>\n",
       "    <tr style=\"text-align: right;\">\n",
       "      <th></th>\n",
       "      <th>movie_name</th>\n",
       "      <th>movie_year</th>\n",
       "      <th>movie_rating</th>\n",
       "    </tr>\n",
       "  </thead>\n",
       "  <tbody>\n",
       "    <tr>\n",
       "      <th>0</th>\n",
       "      <td>The Shawshank Redemption</td>\n",
       "      <td>1994</td>\n",
       "      <td>9.2</td>\n",
       "    </tr>\n",
       "    <tr>\n",
       "      <th>1</th>\n",
       "      <td>The Godfather</td>\n",
       "      <td>1972</td>\n",
       "      <td>9.1</td>\n",
       "    </tr>\n",
       "    <tr>\n",
       "      <th>2</th>\n",
       "      <td>The Godfather: Part II</td>\n",
       "      <td>1974</td>\n",
       "      <td>9.0</td>\n",
       "    </tr>\n",
       "    <tr>\n",
       "      <th>3</th>\n",
       "      <td>The Dark Knight</td>\n",
       "      <td>2008</td>\n",
       "      <td>9.0</td>\n",
       "    </tr>\n",
       "    <tr>\n",
       "      <th>4</th>\n",
       "      <td>12 Angry Men</td>\n",
       "      <td>1957</td>\n",
       "      <td>8.9</td>\n",
       "    </tr>\n",
       "    <tr>\n",
       "      <th>...</th>\n",
       "      <td>...</td>\n",
       "      <td>...</td>\n",
       "      <td>...</td>\n",
       "    </tr>\n",
       "    <tr>\n",
       "      <th>95</th>\n",
       "      <td>Jagten</td>\n",
       "      <td>2012</td>\n",
       "      <td>8.3</td>\n",
       "    </tr>\n",
       "    <tr>\n",
       "      <th>96</th>\n",
       "      <td>Singin' in the Rain</td>\n",
       "      <td>1952</td>\n",
       "      <td>8.3</td>\n",
       "    </tr>\n",
       "    <tr>\n",
       "      <th>97</th>\n",
       "      <td>North by Northwest</td>\n",
       "      <td>1959</td>\n",
       "      <td>8.3</td>\n",
       "    </tr>\n",
       "    <tr>\n",
       "      <th>98</th>\n",
       "      <td>Idi i smotri</td>\n",
       "      <td>1985</td>\n",
       "      <td>8.3</td>\n",
       "    </tr>\n",
       "    <tr>\n",
       "      <th>99</th>\n",
       "      <td>Eternal Sunshine of the Spotless Mind</td>\n",
       "      <td>2004</td>\n",
       "      <td>8.3</td>\n",
       "    </tr>\n",
       "  </tbody>\n",
       "</table>\n",
       "<p>100 rows × 3 columns</p>\n",
       "</div>"
      ],
      "text/plain": [
       "                               movie_name movie_year movie_rating\n",
       "0                The Shawshank Redemption       1994          9.2\n",
       "1                           The Godfather       1972          9.1\n",
       "2                  The Godfather: Part II       1974          9.0\n",
       "3                         The Dark Knight       2008          9.0\n",
       "4                            12 Angry Men       1957          8.9\n",
       "..                                    ...        ...          ...\n",
       "95                                 Jagten       2012          8.3\n",
       "96                    Singin' in the Rain       1952          8.3\n",
       "97                     North by Northwest       1959          8.3\n",
       "98                           Idi i smotri       1985          8.3\n",
       "99  Eternal Sunshine of the Spotless Mind       2004          8.3\n",
       "\n",
       "[100 rows x 3 columns]"
      ]
     },
     "execution_count": 136,
     "metadata": {},
     "output_type": "execute_result"
    }
   ],
   "source": [
    "Top100_movie_ratinglist"
   ]
  },
  {
   "cell_type": "markdown",
   "metadata": {},
   "source": [
    "# Display of IMDB’s Top rated Indian 100 movies"
   ]
  },
  {
   "cell_type": "code",
   "execution_count": 137,
   "metadata": {},
   "outputs": [
    {
     "data": {
      "text/plain": [
       "<Response [200]>"
      ]
     },
     "execution_count": 137,
     "metadata": {},
     "output_type": "execute_result"
    }
   ],
   "source": [
    "imdb_html = requests.get('https://www.imdb.com/india/top-rated-indian-movies/')\n",
    "imdb_html"
   ]
  },
  {
   "cell_type": "code",
   "execution_count": 138,
   "metadata": {},
   "outputs": [],
   "source": [
    "bs_imdb = BeautifulSoup(imdb_html.content,'html.parser')"
   ]
  },
  {
   "cell_type": "code",
   "execution_count": 139,
   "metadata": {},
   "outputs": [],
   "source": [
    "movie_name = bs_imdb.find_all('td',class_=\"titleColumn\")\n",
    "movie_names_list = []\n",
    "for i in movie_name:\n",
    "    for j in i.find_all('a'):\n",
    "        movie_names_list.append(j.get_text('a'))\n",
    "movie_list = movie_names_list[:100]"
   ]
  },
  {
   "cell_type": "code",
   "execution_count": 140,
   "metadata": {},
   "outputs": [],
   "source": [
    "movie_year = bs_imdb.find_all('td',class_=\"titleColumn\")\n",
    "movie_year_list = []\n",
    "for i in movie_year:\n",
    "    for j in i.find('span',class_=\"secondaryInfo\"):\n",
    "        movie_year_list.append(j.replace(\"(\",'').replace(\")\",''))\n",
    "movie_year_lists = movie_year_list[:100]"
   ]
  },
  {
   "cell_type": "code",
   "execution_count": 141,
   "metadata": {},
   "outputs": [],
   "source": [
    "movie_rating = bs_imdb.find_all('td',class_=\"ratingColumn imdbRating\")\n",
    "movie_rating_list = []\n",
    "for i in movie_rating:\n",
    "    for j in i.find_all('strong'):\n",
    "        movie_rating_list.append(j.get_text('strong'))\n",
    "movie_ratings_lists = movie_rating_list[:100]"
   ]
  },
  {
   "cell_type": "code",
   "execution_count": 142,
   "metadata": {},
   "outputs": [],
   "source": [
    "import pandas as pd\n",
    "Top100_Indian_movie_ratinglist = pd.DataFrame({})\n",
    "Top100_Indian_movie_ratinglist['movie_name'] = movie_list\n",
    "Top100_Indian_movie_ratinglist['movie_year'] = movie_year_lists\n",
    "Top100_Indian_movie_ratinglist['movie_rating'] = movie_ratings_lists"
   ]
  },
  {
   "cell_type": "code",
   "execution_count": 143,
   "metadata": {},
   "outputs": [
    {
     "data": {
      "text/html": [
       "<div>\n",
       "<style scoped>\n",
       "    .dataframe tbody tr th:only-of-type {\n",
       "        vertical-align: middle;\n",
       "    }\n",
       "\n",
       "    .dataframe tbody tr th {\n",
       "        vertical-align: top;\n",
       "    }\n",
       "\n",
       "    .dataframe thead th {\n",
       "        text-align: right;\n",
       "    }\n",
       "</style>\n",
       "<table border=\"1\" class=\"dataframe\">\n",
       "  <thead>\n",
       "    <tr style=\"text-align: right;\">\n",
       "      <th></th>\n",
       "      <th>movie_name</th>\n",
       "      <th>movie_year</th>\n",
       "      <th>movie_rating</th>\n",
       "    </tr>\n",
       "  </thead>\n",
       "  <tbody>\n",
       "    <tr>\n",
       "      <th>0</th>\n",
       "      <td>Pather Panchali</td>\n",
       "      <td>1955</td>\n",
       "      <td>8.5</td>\n",
       "    </tr>\n",
       "    <tr>\n",
       "      <th>1</th>\n",
       "      <td>Nayakan</td>\n",
       "      <td>1987</td>\n",
       "      <td>8.5</td>\n",
       "    </tr>\n",
       "    <tr>\n",
       "      <th>2</th>\n",
       "      <td>Pariyerum Perumal</td>\n",
       "      <td>2018</td>\n",
       "      <td>8.5</td>\n",
       "    </tr>\n",
       "    <tr>\n",
       "      <th>3</th>\n",
       "      <td>Anbe Sivam</td>\n",
       "      <td>2003</td>\n",
       "      <td>8.5</td>\n",
       "    </tr>\n",
       "    <tr>\n",
       "      <th>4</th>\n",
       "      <td>Golmaal</td>\n",
       "      <td>1979</td>\n",
       "      <td>8.5</td>\n",
       "    </tr>\n",
       "    <tr>\n",
       "      <th>...</th>\n",
       "      <td>...</td>\n",
       "      <td>...</td>\n",
       "      <td>...</td>\n",
       "    </tr>\n",
       "    <tr>\n",
       "      <th>95</th>\n",
       "      <td>Chhichhore</td>\n",
       "      <td>2019</td>\n",
       "      <td>8.1</td>\n",
       "    </tr>\n",
       "    <tr>\n",
       "      <th>96</th>\n",
       "      <td>Uri: The Surgical Strike</td>\n",
       "      <td>2018</td>\n",
       "      <td>8.1</td>\n",
       "    </tr>\n",
       "    <tr>\n",
       "      <th>97</th>\n",
       "      <td>PK</td>\n",
       "      <td>2014</td>\n",
       "      <td>8.1</td>\n",
       "    </tr>\n",
       "    <tr>\n",
       "      <th>98</th>\n",
       "      <td>Virumandi</td>\n",
       "      <td>2004</td>\n",
       "      <td>8.1</td>\n",
       "    </tr>\n",
       "    <tr>\n",
       "      <th>99</th>\n",
       "      <td>Lucia</td>\n",
       "      <td>2013</td>\n",
       "      <td>8.1</td>\n",
       "    </tr>\n",
       "  </tbody>\n",
       "</table>\n",
       "<p>100 rows × 3 columns</p>\n",
       "</div>"
      ],
      "text/plain": [
       "                  movie_name movie_year movie_rating\n",
       "0            Pather Panchali       1955          8.5\n",
       "1                    Nayakan       1987          8.5\n",
       "2          Pariyerum Perumal       2018          8.5\n",
       "3                 Anbe Sivam       2003          8.5\n",
       "4                    Golmaal       1979          8.5\n",
       "..                       ...        ...          ...\n",
       "95                Chhichhore       2019          8.1\n",
       "96  Uri: The Surgical Strike       2018          8.1\n",
       "97                        PK       2014          8.1\n",
       "98                 Virumandi       2004          8.1\n",
       "99                     Lucia       2013          8.1\n",
       "\n",
       "[100 rows x 3 columns]"
      ]
     },
     "execution_count": 143,
     "metadata": {},
     "output_type": "execute_result"
    }
   ],
   "source": [
    "Top100_Indian_movie_ratinglist"
   ]
  },
  {
   "cell_type": "markdown",
   "metadata": {},
   "source": [
    "# Dispaly of 5 books data from www.bookpage.com"
   ]
  },
  {
   "cell_type": "code",
   "execution_count": 144,
   "metadata": {},
   "outputs": [
    {
     "data": {
      "text/plain": [
       "<Response [200]>"
      ]
     },
     "execution_count": 144,
     "metadata": {},
     "output_type": "execute_result"
    }
   ],
   "source": [
    "bookpage_html = requests.get('https://bookpage.com/reviews')\n",
    "bookpage_html"
   ]
  },
  {
   "cell_type": "code",
   "execution_count": 145,
   "metadata": {},
   "outputs": [],
   "source": [
    "bs_bookpage = BeautifulSoup(bookpage_html.content,'html.parser')"
   ]
  },
  {
   "cell_type": "code",
   "execution_count": 146,
   "metadata": {},
   "outputs": [],
   "source": [
    "book_name = bs_bookpage.find_all('h4',class_=\"italic\")\n",
    "book_names_list = []\n",
    "for i in book_name:\n",
    "    for j in i.find_all('a'):\n",
    "        book_names_list.append(j.get_text('a').replace('a★ a','').strip())\n",
    "book_list = book_names_list[:5]"
   ]
  },
  {
   "cell_type": "code",
   "execution_count": 147,
   "metadata": {},
   "outputs": [
    {
     "data": {
      "text/plain": [
       "[\"Beth O'Leary\",\n",
       " 'Curtis Manley, Lucy Ruth Cummins',\n",
       " 'Casey McQuiston',\n",
       " 'Kristen Arnett',\n",
       " 'T. L. Huchu']"
      ]
     },
     "execution_count": 147,
     "metadata": {},
     "output_type": "execute_result"
    }
   ],
   "source": [
    "book_author = bs_bookpage.find_all('p',class_=\"sans bold\")\n",
    "book_author_list = []\n",
    "for i in book_author:\n",
    "    book_author_list.append(i.get_text('p').replace('\\n',''))\n",
    "book_author_lists = book_author_list[:5]\n",
    "book_author_lists"
   ]
  },
  {
   "cell_type": "code",
   "execution_count": 148,
   "metadata": {},
   "outputs": [],
   "source": [
    "book_genre = bs_bookpage.find_all('p',class_=\"genre-links hidden-phone\")\n",
    "book_genre_list=[]\n",
    "for i in book_genre:\n",
    "    book_genre_list.append(i.get_text('a').replace(\"\\na\",'').replace('a\\n',''))\n",
    "book_genre_lists = book_genre_list[:5]"
   ]
  },
  {
   "cell_type": "code",
   "execution_count": 149,
   "metadata": {},
   "outputs": [],
   "source": [
    "book_review = bs_bookpage.find_all('p',class_=\"excerpt\")\n",
    "book_review_list=[]\n",
    "for i in book_review:\n",
    "    book_review_list.append(i.get_text().replace('\\n',''))\n",
    "book_review_lists = book_review_list[:5]"
   ]
  },
  {
   "cell_type": "code",
   "execution_count": 150,
   "metadata": {},
   "outputs": [
    {
     "data": {
      "text/html": [
       "<div>\n",
       "<style scoped>\n",
       "    .dataframe tbody tr th:only-of-type {\n",
       "        vertical-align: middle;\n",
       "    }\n",
       "\n",
       "    .dataframe tbody tr th {\n",
       "        vertical-align: top;\n",
       "    }\n",
       "\n",
       "    .dataframe thead th {\n",
       "        text-align: right;\n",
       "    }\n",
       "</style>\n",
       "<table border=\"1\" class=\"dataframe\">\n",
       "  <thead>\n",
       "    <tr style=\"text-align: right;\">\n",
       "      <th></th>\n",
       "      <th>book_name</th>\n",
       "      <th>book_author</th>\n",
       "      <th>book_genre</th>\n",
       "      <th>book_review</th>\n",
       "    </tr>\n",
       "  </thead>\n",
       "  <tbody>\n",
       "    <tr>\n",
       "      <th>0</th>\n",
       "      <td>The Road Trip</td>\n",
       "      <td>Beth O'Leary</td>\n",
       "      <td>Romance / Contemporary Romance</td>\n",
       "      <td>In Beth O’Leary’s The Road Trip, the path to h...</td>\n",
       "    </tr>\n",
       "    <tr>\n",
       "      <th>1</th>\n",
       "      <td>The Rescuer of Tiny Creatures</td>\n",
       "      <td>Curtis Manley, Lucy Ruth Cummins</td>\n",
       "      <td>Children's / Children's Picture Book</td>\n",
       "      <td>Red-haired, inquisitive Roberta is a budding e...</td>\n",
       "    </tr>\n",
       "    <tr>\n",
       "      <th>2</th>\n",
       "      <td>One Last Stop</td>\n",
       "      <td>Casey McQuiston</td>\n",
       "      <td>Romance / Contemporary Romance</td>\n",
       "      <td>After her blockbuster debut novel, Red, White ...</td>\n",
       "    </tr>\n",
       "    <tr>\n",
       "      <th>3</th>\n",
       "      <td>With Teeth</td>\n",
       "      <td>Kristen Arnett</td>\n",
       "      <td>Fiction / Family Drama</td>\n",
       "      <td>Kristen Arnett shows her range with laugh-out-...</td>\n",
       "    </tr>\n",
       "    <tr>\n",
       "      <th>4</th>\n",
       "      <td>The Library of the Dead</td>\n",
       "      <td>T. L. Huchu</td>\n",
       "      <td>Science Fiction &amp; Fantasy / Fantasy</td>\n",
       "      <td>T.L. Huchu’s first installment of the Edinburg...</td>\n",
       "    </tr>\n",
       "  </tbody>\n",
       "</table>\n",
       "</div>"
      ],
      "text/plain": [
       "                       book_name                       book_author  \\\n",
       "0                  The Road Trip                      Beth O'Leary   \n",
       "1  The Rescuer of Tiny Creatures  Curtis Manley, Lucy Ruth Cummins   \n",
       "2                  One Last Stop                   Casey McQuiston   \n",
       "3                     With Teeth                    Kristen Arnett   \n",
       "4        The Library of the Dead                       T. L. Huchu   \n",
       "\n",
       "                             book_genre  \\\n",
       "0        Romance / Contemporary Romance   \n",
       "1  Children's / Children's Picture Book   \n",
       "2        Romance / Contemporary Romance   \n",
       "3                Fiction / Family Drama   \n",
       "4   Science Fiction & Fantasy / Fantasy   \n",
       "\n",
       "                                         book_review  \n",
       "0  In Beth O’Leary’s The Road Trip, the path to h...  \n",
       "1  Red-haired, inquisitive Roberta is a budding e...  \n",
       "2  After her blockbuster debut novel, Red, White ...  \n",
       "3  Kristen Arnett shows her range with laugh-out-...  \n",
       "4  T.L. Huchu’s first installment of the Edinburg...  "
      ]
     },
     "execution_count": 150,
     "metadata": {},
     "output_type": "execute_result"
    }
   ],
   "source": [
    "import pandas as pd\n",
    "bookpage = pd.DataFrame({})\n",
    "bookpage['book_name'] = book_list\n",
    "bookpage['book_author'] = book_author_lists\n",
    "bookpage['book_genre'] = book_genre_lists\n",
    "bookpage['book_review'] = book_review_lists\n",
    "bookpage"
   ]
  },
  {
   "cell_type": "markdown",
   "metadata": {},
   "source": [
    "# Display Top 10 ODI Team ranking from www.icc-cricket.com"
   ]
  },
  {
   "cell_type": "code",
   "execution_count": 151,
   "metadata": {},
   "outputs": [
    {
     "data": {
      "text/plain": [
       "<Response [200]>"
      ]
     },
     "execution_count": 151,
     "metadata": {},
     "output_type": "execute_result"
    }
   ],
   "source": [
    "cricket_html_men = requests.get('https://www.icc-cricket.com/rankings/mens/team-rankings/odi')\n",
    "cricket_html_men"
   ]
  },
  {
   "cell_type": "code",
   "execution_count": 152,
   "metadata": {},
   "outputs": [
    {
     "data": {
      "text/plain": [
       "<Response [200]>"
      ]
     },
     "execution_count": 152,
     "metadata": {},
     "output_type": "execute_result"
    }
   ],
   "source": [
    "cricket_html_women = requests.get('https://www.icc-cricket.com/rankings/womens/team-rankings/odi')\n",
    "cricket_html_women"
   ]
  },
  {
   "cell_type": "code",
   "execution_count": 153,
   "metadata": {},
   "outputs": [],
   "source": [
    "bs_cricket_men = BeautifulSoup(cricket_html_men.content,'html.parser')\n",
    "bs_cricket_women = BeautifulSoup(cricket_html_women.content,'html.parser')"
   ]
  },
  {
   "cell_type": "code",
   "execution_count": 154,
   "metadata": {},
   "outputs": [
    {
     "name": "stdout",
     "output_type": "stream",
     "text": [
      "Top 10 ODI Teams in Men Cricket\n",
      "\n",
      "\n",
      "   Country_name matches_played points rating\n",
      "0   New Zealand             17  2,054    121\n",
      "1     Australia             25  2,945    118\n",
      "2         India             29  3,344    115\n",
      "3       England             27  3,100    115\n",
      "4  South Africa             20  2,137    107\n",
      "5      Pakistan             24  2,323     97\n",
      "6    Bangladesh             27  2,438     90\n",
      "7   West Indies             27  2,222     82\n",
      "8     Sri Lanka             24  1,876     78\n",
      "9   Afghanistan             17  1,054     62\n",
      "\n",
      "\n",
      " Top 10 ODI Teams in Women Cricket\n",
      "   Country_name matches_played points rating\n",
      "0     Australia             18  2,955    164\n",
      "1  South Africa             24  2,828    118\n",
      "2       England             17  1,993    117\n",
      "3         India             20  2,226    111\n",
      "4   New Zealand             21  1,947     93\n",
      "5   West Indies             12  1,025     85\n",
      "6      Pakistan             15  1,101     73\n",
      "7    Bangladesh              5    306     61\n",
      "8     Sri Lanka             11    519     47\n",
      "9       Ireland              2     25     13\n"
     ]
    }
   ],
   "source": [
    "def Cricket_stats(html):\n",
    "    \n",
    "# team - country\n",
    "\n",
    "\n",
    "    country_name = html.find_all('span',class_=\"u-hide-phablet\")\n",
    "    country_names_list = []\n",
    "    for i in country_name:\n",
    "        country_names_list.append(i.get_text())\n",
    "    country_list = country_names_list[:10]\n",
    "    \n",
    "# team- matches    \n",
    "\n",
    "    team_matches = html.find_all('td',class_=[\"rankings-block__banner--matches\" , \"table-body__cell u-center-text\"])\n",
    "    team_matches_list = []\n",
    "    k=0\n",
    "    j = \"\"\n",
    "    for i in team_matches:\n",
    "        k = k+1\n",
    "        if(k==0):\n",
    "            pass\n",
    "        else:\n",
    "            if(i.parent.get_text() == j):\n",
    "                pass\n",
    "            else:\n",
    "                team_matches_list.append(i.get_text())\n",
    "            j =i.parent.get_text()\n",
    "    matches_played = team_matches_list[:10]\n",
    "\n",
    "# team - points\n",
    "\n",
    "    team_point = html.find_all('td',class_=[\"rankings-block__banner--points\" , \"table-body__cell u-center-text\"])\n",
    "    team_points_list = []\n",
    "    l = 0\n",
    "    m = \"\"\n",
    "    for i in team_point:\n",
    "        l = l+1\n",
    "        if(l==1):\n",
    "            team_points_list.append(i.get_text())\n",
    "        else:\n",
    "            if(i.parent.get_text() ==m):\n",
    "                team_points_list.append(i.get_text())\n",
    "            else:\n",
    "                pass\n",
    "            m = i.parent.get_text()       \n",
    "    team_points = team_points_list[:10]\n",
    "    \n",
    "# team - rating\n",
    "\n",
    "    team_rating = html.find_all('td',class_=[\"rankings-block__banner--rating u-text-right\" , \"table-body__cell u-text-right rating\"])\n",
    "    team_ratings_list = []\n",
    "    for i in team_rating:\n",
    "        team_ratings_list.append(i.get_text().replace('\\n','').strip())\n",
    "    team_ratings = team_ratings_list[:10]\n",
    "    \n",
    "    team_rating = pd.DataFrame({})\n",
    "    team_rating['Country_name'] = country_list\n",
    "    team_rating['matches_played'] = matches_played\n",
    "    team_rating['points'] =  team_points\n",
    "    team_rating['rating'] = team_ratings\n",
    "    print(team_rating)\n",
    "\n",
    "print( 'Top 10 ODI Teams in Men Cricket\\n\\n')\n",
    "Cricket_stats(bs_cricket_men)\n",
    "print('\\n\\n','Top 10 ODI Teams in Women Cricket')\n",
    "Cricket_stats(bs_cricket_women)\n",
    "    "
   ]
  },
  {
   "cell_type": "markdown",
   "metadata": {},
   "source": [
    "# Display Top 10 ODI Batsmen & Bowler Rankings from www.icc-cricket.com"
   ]
  },
  {
   "cell_type": "code",
   "execution_count": 155,
   "metadata": {},
   "outputs": [
    {
     "data": {
      "text/plain": [
       "<Response [200]>"
      ]
     },
     "execution_count": 155,
     "metadata": {},
     "output_type": "execute_result"
    }
   ],
   "source": [
    "player_html_men = requests.get('https://www.icc-cricket.com/rankings/mens/player-rankings/odi')\n",
    "player_html_men"
   ]
  },
  {
   "cell_type": "code",
   "execution_count": 156,
   "metadata": {},
   "outputs": [
    {
     "data": {
      "text/plain": [
       "<Response [200]>"
      ]
     },
     "execution_count": 156,
     "metadata": {},
     "output_type": "execute_result"
    }
   ],
   "source": [
    "player_html_women = requests.get('https://www.icc-cricket.com/rankings/womens/player-rankings/odi')\n",
    "player_html_women"
   ]
  },
  {
   "cell_type": "code",
   "execution_count": 157,
   "metadata": {},
   "outputs": [],
   "source": [
    "bs_player_men = BeautifulSoup(player_html_men.content,'html.parser')\n",
    "bs_player_women = BeautifulSoup(player_html_women.content,'html.parser')"
   ]
  },
  {
   "cell_type": "code",
   "execution_count": null,
   "metadata": {},
   "outputs": [],
   "source": []
  },
  {
   "cell_type": "code",
   "execution_count": 158,
   "metadata": {},
   "outputs": [
    {
     "name": "stdout",
     "output_type": "stream",
     "text": [
      "\n",
      "\n",
      "Top 10 ODI batting Rankings in mens Cricket\n",
      "\n",
      "\n",
      "           Player_name Country_name Player_rating\n",
      "0           Babar Azam          PAK           865\n",
      "1          Virat Kohli          IND           857\n",
      "2         Rohit Sharma          IND           825\n",
      "3          Ross Taylor           NZ           801\n",
      "4          Aaron Finch          AUS           791\n",
      "5       Jonny Bairstow          ENG           785\n",
      "6         Fakhar Zaman          PAK           778\n",
      "7  Francois du Plessis           SA           778\n",
      "8         David Warner          AUS           773\n",
      "9            Shai Hope           WI           773\n",
      "\n",
      "\n",
      "Top 10 ODI batting Rankings in womens Cricket\n",
      "\n",
      "\n",
      "         Player_name Country_name Player_rating\n",
      "0     Tammy Beaumont          ENG           765\n",
      "1        Lizelle Lee           SA           758\n",
      "2       Alyssa Healy          AUS           756\n",
      "3    Stafanie Taylor           WI           746\n",
      "4        Meg Lanning          AUS           723\n",
      "5  Amy Satterthwaite           NZ           715\n",
      "6    Smriti Mandhana          IND           710\n",
      "7        Mithali Raj          IND           709\n",
      "8     Natalie Sciver          ENG           685\n",
      "9    Laura Wolvaardt           SA           683\n",
      "\n",
      "\n",
      "Top 10 ODI bowling Rankings in mens Cricket\n",
      "\n",
      "\n",
      "         Player_name Country_name Player_rating\n",
      "0        Trent Boult           NZ           737\n",
      "1       Mehedi Hasan          BAN           725\n",
      "2   Mujeeb Ur Rahman          AFG           708\n",
      "3         Matt Henry           NZ           691\n",
      "4     Jasprit Bumrah          IND           690\n",
      "5      Kagiso Rabada           SA           666\n",
      "6       Chris Woakes          ENG           665\n",
      "7     Josh Hazlewood          AUS           660\n",
      "8  Mustafizur Rahman          BAN           652\n",
      "9        Pat Cummins          AUS           646\n",
      "\n",
      "\n",
      "Top 10 ODI bowling Rankings in womens Cricket\n",
      "\n",
      "\n",
      "       Player_name Country_name Player_rating\n",
      "0    Jess Jonassen          AUS           808\n",
      "1     Megan Schutt          AUS           762\n",
      "2   Marizanne Kapp           SA           747\n",
      "3   Shabnim Ismail           SA           717\n",
      "4   Jhulan Goswami          IND           681\n",
      "5  Katherine Brunt          ENG           655\n",
      "6     Poonam Yadav          IND           641\n",
      "7   Ayabonga Khaka           SA           638\n",
      "8     Ellyse Perry          AUS           616\n",
      "9    Shikha Pandey          IND           610\n"
     ]
    }
   ],
   "source": [
    "def Player_stats(player_gender,ranking_area):\n",
    "    html = BeautifulSoup(requests.get('https://www.icc-cricket.com/rankings/'+player_gender+'s/player-rankings/odi/'+ranking_area).content,'html.parser')\n",
    "    \n",
    "# player- name    \n",
    "\n",
    "    player_names = html.find_all(['div','td'],class_=[\"rankings-block__banner--name-large\" , \"table-body__cell rankings-table__name name\"])\n",
    "    player_names_list = []\n",
    "    k=0\n",
    "    j = \"\"\n",
    "    for i in player_names:\n",
    "            player_names_list.append(i.get_text().replace('\\n',''))\n",
    "    player_name = player_names_list[:10]\n",
    "\n",
    "\n",
    "# player - rating\n",
    "\n",
    "    player_ratings = html.find_all(['div','td'],class_=[\"rankings-block__banner--rating\" , \"table-body__cell rating\"])\n",
    "    player_ratings_list = []\n",
    "    k=0\n",
    "    j = \"\"\n",
    "    for i in player_ratings:\n",
    "            player_ratings_list.append(i.get_text())\n",
    "    player_rating = player_ratings_list[:10]\n",
    "\n",
    "# player - nationality\n",
    "    player_nationalities = html.find_all(['div','span'],class_=[\"rankings-block__banner--nationality\" , \"table-body__logo-text\"])\n",
    "    player_nationalities_list = []\n",
    "    k=0\n",
    "    j = \"\"\n",
    "    for i in player_nationalities:\n",
    "        k = k+1\n",
    "        if(k==1):\n",
    "            x = (''.join(i.findAll(text = True , recursive = False))).replace('\\n','')\n",
    "            player_nationalities_list.append(x)\n",
    "        else:\n",
    "            player_nationalities_list.append(i.get_text().replace('\\n','').strip())\n",
    "    player_nationality = player_nationalities_list[:10]\n",
    "    \n",
    "    \n",
    "    player_stats = pd.DataFrame({})\n",
    "    player_stats['Player_name'] = player_name\n",
    "    player_stats['Country_name'] = player_nationality\n",
    "    player_stats['Player_rating'] =  player_rating\n",
    "    \n",
    "    print('\\n\\nTop 10 ODI '+ ranking_area +' Rankings in '+player_gender+'s Cricket\\n\\n')\n",
    "    print(player_stats)\n",
    "\n",
    "Player_stats('men','batting')\n",
    "Player_stats('women','batting')\n",
    "Player_stats('men','bowling')\n",
    "Player_stats('women','bowling')"
   ]
  },
  {
   "cell_type": "markdown",
   "metadata": {},
   "source": [
    "# Details of Mobile Phones under Rs.20000 from amazon.in"
   ]
  },
  {
   "cell_type": "code",
   "execution_count": 159,
   "metadata": {},
   "outputs": [
    {
     "name": "stdout",
     "output_type": "stream",
     "text": [
      "<Response [200]>\n"
     ]
    }
   ],
   "source": [
    "url = 'https://www.amazon.in/s?k=mobiles&rh=p_36%3A-2000000&qid=1622545203&rnid=1318502031&ref=sr_pg_1'\n",
    "all_urls = []\n",
    "\n",
    "mobile_amazon_url = requests.get('https://www.amazon.in/s?k=mobiles&page=14&qid=1622478156&ref=sr_pg_13')\n",
    "status = True\n",
    "while status:\n",
    "    if (mobile_amazon_url.status_code != 200):\n",
    "        mobile_amazon_url = requests.get('https://www.amazon.in/s?k=mobiles&page=14&qid=1622478156&ref=sr_pg_13')\n",
    "    else:\n",
    "        status = False\n",
    "        print(mobile_amazon_url)"
   ]
  },
  {
   "cell_type": "code",
   "execution_count": 160,
   "metadata": {},
   "outputs": [],
   "source": [
    "def getdata(url):\n",
    "    HEADERS = ({'User-Agent':\n",
    "            'Mozilla/5.0 (X11; Linux x86_64) AppleWebKit/537.36 (KHTML, like Gecko) Chrome/44.0.2403.157 Safari/537.36',\n",
    "            'Accept-Language': 'en-US, en;q=0.5'})\n",
    "    r = requests.get(url , headers = HEADERS)\n",
    "    soup = BeautifulSoup(r.content, 'html.parser')\n",
    "    return soup"
   ]
  },
  {
   "cell_type": "code",
   "execution_count": null,
   "metadata": {},
   "outputs": [],
   "source": []
  },
  {
   "cell_type": "code",
   "execution_count": 161,
   "metadata": {},
   "outputs": [
    {
     "data": {
      "text/plain": [
       "['https://www.amazon.in/s?k=mobiles&rh=p_36%3A-2000000&qid=1622545203&rnid=1318502031&ref=sr_pg_1',\n",
       " 'http://www.amazon.co.in/s?k=mobiles&rh=p_36%3A-2000000&page=2&qid=1622577158&rnid=1318502031&ref=sr_pg_1',\n",
       " 'http://www.amazon.co.in/s?k=mobiles&rh=p_36%3A-2000000&page=3&qid=1622577160&rnid=1318502031&ref=sr_pg_2',\n",
       " 'http://www.amazon.co.in/s?k=mobiles&rh=p_36%3A-2000000&page=4&qid=1622577162&rnid=1318502031&ref=sr_pg_3',\n",
       " 'http://www.amazon.co.in/s?k=mobiles&rh=p_36%3A-2000000&page=5&qid=1622577164&rnid=1318502031&ref=sr_pg_4',\n",
       " 'http://www.amazon.co.in/s?k=mobiles&rh=p_36%3A-2000000&page=6&qid=1622577165&rnid=1318502031&ref=sr_pg_5',\n",
       " 'http://www.amazon.co.in/s?k=mobiles&rh=p_36%3A-2000000&page=7&qid=1622577167&rnid=1318502031&ref=sr_pg_6',\n",
       " 'http://www.amazon.co.in/s?k=mobiles&rh=p_36%3A-2000000&page=8&qid=1622577169&rnid=1318502031&ref=sr_pg_7',\n",
       " 'http://www.amazon.co.in/s?k=mobiles&rh=p_36%3A-2000000&page=9&qid=1622577170&rnid=1318502031&ref=sr_pg_8',\n",
       " 'http://www.amazon.co.in/s?k=mobiles&rh=p_36%3A-2000000&page=10&qid=1622577172&rnid=1318502031&ref=sr_pg_9',\n",
       " 'http://www.amazon.co.in/s?k=mobiles&rh=p_36%3A-2000000&page=11&qid=1622577174&rnid=1318502031&ref=sr_pg_10',\n",
       " 'http://www.amazon.co.in/s?k=mobiles&rh=p_36%3A-2000000&page=12&qid=1622577175&rnid=1318502031&ref=sr_pg_11',\n",
       " 'http://www.amazon.co.in/s?k=mobiles&rh=p_36%3A-2000000&page=13&qid=1622577177&rnid=1318502031&ref=sr_pg_12',\n",
       " 'http://www.amazon.co.in/s?k=mobiles&rh=p_36%3A-2000000&page=14&qid=1622577179&rnid=1318502031&ref=sr_pg_13',\n",
       " 'http://www.amazon.co.in/s?k=mobiles&rh=p_36%3A-2000000&page=15&qid=1622577180&rnid=1318502031&ref=sr_pg_14',\n",
       " 'http://www.amazon.co.in/s?k=mobiles&rh=p_36%3A-2000000&page=16&qid=1622577182&rnid=1318502031&ref=sr_pg_15',\n",
       " 'http://www.amazon.co.in/s?k=mobiles&rh=p_36%3A-2000000&page=17&qid=1622577184&rnid=1318502031&ref=sr_pg_16',\n",
       " 'http://www.amazon.co.in/s?k=mobiles&rh=p_36%3A-2000000&page=18&qid=1622577186&rnid=1318502031&ref=sr_pg_17',\n",
       " 'http://www.amazon.co.in/s?k=mobiles&rh=p_36%3A-2000000&page=19&qid=1622577188&rnid=1318502031&ref=sr_pg_18',\n",
       " 'http://www.amazon.co.in/s?k=mobiles&rh=p_36%3A-2000000&page=20&qid=1622577190&rnid=1318502031&ref=sr_pg_19']"
      ]
     },
     "execution_count": 161,
     "metadata": {},
     "output_type": "execute_result"
    }
   ],
   "source": [
    "def getnextpage(soup):\n",
    "    page = soup.find('ul' , class_='a-pagination')\n",
    "    if not page.find('li' , class_='a-disabled a-last'):\n",
    "        url = 'http://www.amazon.co.in'+str(page.find('li',class_='a-last').find('a')['href'])\n",
    "        return url\n",
    "    else:\n",
    "        return    \n",
    "\n",
    "while True:\n",
    "    all_urls.append(url)\n",
    "    soup = getdata(url)\n",
    "    url = getnextpage(soup)\n",
    "    if not url:\n",
    "        break\n",
    "\n",
    "all_urls\n",
    "\n",
    "    "
   ]
  },
  {
   "cell_type": "code",
   "execution_count": 165,
   "metadata": {},
   "outputs": [],
   "source": [
    "mobile_names_list = []\n",
    "mobile_prices_list = []\n",
    "mobile_ratings_list = []\n",
    "mobile_image_url_list = []\n",
    "for url in all_urls:\n",
    "\n",
    "        \n",
    "    bs_mobile = getdata(url)\n",
    "    \n",
    "    for d in bs_mobile.find_all('div',class_='s-result-item s-asin sg-col-0-of-12 sg-col-16-of-20 sg-col sg-col-12-of-16'):\n",
    "        \n",
    "        name = d.find('span', class_='a-size-medium a-color-base a-text-normal')\n",
    "        price  = d.find('span',class_='a-price-whole')\n",
    "        rating = d.find('span',class_='a-icon-alt')\n",
    "        image_url = d.find('div', class_='a-section aok-relative s-image-fixed-height')\n",
    "        \n",
    "        if name is not None:\n",
    "            mobile_names_list.append(name.text)\n",
    "            \n",
    "        else:\n",
    "            mobile_names_list.append(\"unknown-product\")\n",
    "        \n",
    "        if price is not None:\n",
    "            mobile_prices_list.append(price.text)\n",
    "            \n",
    "        else:\n",
    "            mobile_prices_list.append(\"0\")\n",
    "        \n",
    "        if rating is not None:\n",
    "            mobile_ratings_list.append(rating.text)\n",
    "        \n",
    "        else:\n",
    "            mobile_ratings_list.append(\"-1\")\n",
    "        \n",
    "        if image_url is not None:\n",
    "            mobile_image_url_list.append(image_url.find('img',class_='s-image')['src'])\n",
    "        \n",
    "        else:\n",
    "            mobile_image_url_list.append(\"Image URL not available\")"
   ]
  },
  {
   "cell_type": "code",
   "execution_count": 166,
   "metadata": {},
   "outputs": [
    {
     "name": "stdout",
     "output_type": "stream",
     "text": [
      "List of mobiles under Rs.20000\n",
      "\n"
     ]
    },
    {
     "data": {
      "text/html": [
       "<div>\n",
       "<style scoped>\n",
       "    .dataframe tbody tr th:only-of-type {\n",
       "        vertical-align: middle;\n",
       "    }\n",
       "\n",
       "    .dataframe tbody tr th {\n",
       "        vertical-align: top;\n",
       "    }\n",
       "\n",
       "    .dataframe thead th {\n",
       "        text-align: right;\n",
       "    }\n",
       "</style>\n",
       "<table border=\"1\" class=\"dataframe\">\n",
       "  <thead>\n",
       "    <tr style=\"text-align: right;\">\n",
       "      <th></th>\n",
       "      <th>Name</th>\n",
       "      <th>Price</th>\n",
       "      <th>rating</th>\n",
       "      <th>image_url</th>\n",
       "    </tr>\n",
       "  </thead>\n",
       "  <tbody>\n",
       "    <tr>\n",
       "      <th>0</th>\n",
       "      <td>Redmi 9A (Nature Green, 2GB RAM, 32GB Storage)...</td>\n",
       "      <td>6,999</td>\n",
       "      <td>4.2 out of 5 stars</td>\n",
       "      <td>https://m.media-amazon.com/images/I/71sxlhYhKW...</td>\n",
       "    </tr>\n",
       "    <tr>\n",
       "      <th>1</th>\n",
       "      <td>Redmi 9 (Sky Blue, 4GB RAM, 64GB Storage)| 500...</td>\n",
       "      <td>8,799</td>\n",
       "      <td>4.2 out of 5 stars</td>\n",
       "      <td>https://m.media-amazon.com/images/I/71A9Vo1Bat...</td>\n",
       "    </tr>\n",
       "    <tr>\n",
       "      <th>2</th>\n",
       "      <td>Oppo A31 (Fantasy White, 6GB RAM, 128GB Storag...</td>\n",
       "      <td>11,990</td>\n",
       "      <td>4.2 out of 5 stars</td>\n",
       "      <td>https://m.media-amazon.com/images/I/61IhTtJUXJ...</td>\n",
       "    </tr>\n",
       "    <tr>\n",
       "      <th>3</th>\n",
       "      <td>Samsung Galaxy M31 (Ocean Blue, 6GB RAM, 128GB...</td>\n",
       "      <td>14,999</td>\n",
       "      <td>4.3 out of 5 stars</td>\n",
       "      <td>https://m.media-amazon.com/images/I/71-Su4Wr0H...</td>\n",
       "    </tr>\n",
       "    <tr>\n",
       "      <th>4</th>\n",
       "      <td>Samsung Galaxy M12 (Blue,4GB RAM, 64GB Storage...</td>\n",
       "      <td>10,999</td>\n",
       "      <td>4.0 out of 5 stars</td>\n",
       "      <td>https://m.media-amazon.com/images/I/71yYaNztZ0...</td>\n",
       "    </tr>\n",
       "    <tr>\n",
       "      <th>...</th>\n",
       "      <td>...</td>\n",
       "      <td>...</td>\n",
       "      <td>...</td>\n",
       "      <td>...</td>\n",
       "    </tr>\n",
       "    <tr>\n",
       "      <th>293</th>\n",
       "      <td>Blackview India Gadgets - BV5500 Plus Mobile P...</td>\n",
       "      <td>15,500</td>\n",
       "      <td>2.2 out of 5 stars</td>\n",
       "      <td>https://m.media-amazon.com/images/I/61RBdRuk8o...</td>\n",
       "    </tr>\n",
       "    <tr>\n",
       "      <th>294</th>\n",
       "      <td>I KALL K280 Smartphone (6.26 Inch, 32GB, Grey)</td>\n",
       "      <td>6,479</td>\n",
       "      <td>3.0 out of 5 stars</td>\n",
       "      <td>https://m.media-amazon.com/images/I/41vAPen0-w...</td>\n",
       "    </tr>\n",
       "    <tr>\n",
       "      <th>295</th>\n",
       "      <td>Xifo Gionee M7 4G Volte Smartphone with Finger...</td>\n",
       "      <td>8,990</td>\n",
       "      <td>3.0 out of 5 stars</td>\n",
       "      <td>https://m.media-amazon.com/images/I/71DTjHXGFh...</td>\n",
       "    </tr>\n",
       "    <tr>\n",
       "      <th>296</th>\n",
       "      <td>Vivo Y12s Phantom Black (3GB + 32GB) + vivo Co...</td>\n",
       "      <td>10,489</td>\n",
       "      <td>4.2 out of 5 stars</td>\n",
       "      <td>https://m.media-amazon.com/images/I/81f1TweKSs...</td>\n",
       "    </tr>\n",
       "    <tr>\n",
       "      <th>302</th>\n",
       "      <td>Lava BeU Rose Pink, 2GB RAM, 32GB Storage + La...</td>\n",
       "      <td>6,623</td>\n",
       "      <td>3.7 out of 5 stars</td>\n",
       "      <td>https://m.media-amazon.com/images/I/814F2YHzeh...</td>\n",
       "    </tr>\n",
       "  </tbody>\n",
       "</table>\n",
       "<p>257 rows × 4 columns</p>\n",
       "</div>"
      ],
      "text/plain": [
       "                                                  Name   Price  \\\n",
       "0    Redmi 9A (Nature Green, 2GB RAM, 32GB Storage)...   6,999   \n",
       "1    Redmi 9 (Sky Blue, 4GB RAM, 64GB Storage)| 500...   8,799   \n",
       "2    Oppo A31 (Fantasy White, 6GB RAM, 128GB Storag...  11,990   \n",
       "3    Samsung Galaxy M31 (Ocean Blue, 6GB RAM, 128GB...  14,999   \n",
       "4    Samsung Galaxy M12 (Blue,4GB RAM, 64GB Storage...  10,999   \n",
       "..                                                 ...     ...   \n",
       "293  Blackview India Gadgets - BV5500 Plus Mobile P...  15,500   \n",
       "294     I KALL K280 Smartphone (6.26 Inch, 32GB, Grey)   6,479   \n",
       "295  Xifo Gionee M7 4G Volte Smartphone with Finger...   8,990   \n",
       "296  Vivo Y12s Phantom Black (3GB + 32GB) + vivo Co...  10,489   \n",
       "302  Lava BeU Rose Pink, 2GB RAM, 32GB Storage + La...   6,623   \n",
       "\n",
       "                 rating                                          image_url  \n",
       "0    4.2 out of 5 stars  https://m.media-amazon.com/images/I/71sxlhYhKW...  \n",
       "1    4.2 out of 5 stars  https://m.media-amazon.com/images/I/71A9Vo1Bat...  \n",
       "2    4.2 out of 5 stars  https://m.media-amazon.com/images/I/61IhTtJUXJ...  \n",
       "3    4.3 out of 5 stars  https://m.media-amazon.com/images/I/71-Su4Wr0H...  \n",
       "4    4.0 out of 5 stars  https://m.media-amazon.com/images/I/71yYaNztZ0...  \n",
       "..                  ...                                                ...  \n",
       "293  2.2 out of 5 stars  https://m.media-amazon.com/images/I/61RBdRuk8o...  \n",
       "294  3.0 out of 5 stars  https://m.media-amazon.com/images/I/41vAPen0-w...  \n",
       "295  3.0 out of 5 stars  https://m.media-amazon.com/images/I/71DTjHXGFh...  \n",
       "296  4.2 out of 5 stars  https://m.media-amazon.com/images/I/81f1TweKSs...  \n",
       "302  3.7 out of 5 stars  https://m.media-amazon.com/images/I/814F2YHzeh...  \n",
       "\n",
       "[257 rows x 4 columns]"
      ]
     },
     "execution_count": 166,
     "metadata": {},
     "output_type": "execute_result"
    }
   ],
   "source": [
    "import pandas as pd\n",
    "mobile_list = pd.DataFrame({})\n",
    "mobile_list['Name']=mobile_names_list\n",
    "mobile_list['Price']=mobile_prices_list\n",
    "mobile_list['rating']=mobile_ratings_list\n",
    "mobile_list['image_url']=mobile_image_url_list\n",
    "\n",
    "\n",
    "mobile_list = mobile_list.drop(mobile_list[mobile_list['Price']=='0'].index)\n",
    "\n",
    "mobile_list = mobile_list.drop(mobile_list[mobile_list['rating']=='-1'].index)\n",
    "\n",
    "print(\"List of mobiles under Rs.20000\\n\")\n",
    "mobile_list"
   ]
  },
  {
   "cell_type": "markdown",
   "metadata": {},
   "source": [
    "# 7 day extended forecast display of San-Fransisco from weather.gov"
   ]
  },
  {
   "cell_type": "code",
   "execution_count": 167,
   "metadata": {},
   "outputs": [
    {
     "data": {
      "text/plain": [
       "<Response [200]>"
      ]
     },
     "execution_count": 167,
     "metadata": {},
     "output_type": "execute_result"
    }
   ],
   "source": [
    "weather_url = requests.get('https://forecast.weather.gov/MapClick.php?lat=37.777120000000025&lon=-122.41963999999996#.YLZoTfkzZPY')\n",
    "\n",
    "\n",
    "weather_url"
   ]
  },
  {
   "cell_type": "code",
   "execution_count": 168,
   "metadata": {},
   "outputs": [],
   "source": [
    "weather_forecast = BeautifulSoup(weather_url.content,'html.parser')"
   ]
  },
  {
   "cell_type": "code",
   "execution_count": 169,
   "metadata": {},
   "outputs": [],
   "source": [
    "period = []\n",
    "temperature = []\n",
    "short_description = []\n",
    "description = []\n",
    "\n",
    "for d in weather_forecast.find_all('li',class_='forecast-tombstone'):\n",
    "    day = d.find('p', class_='period-name')\n",
    "    temp  = d.find('p',class_=['temp temp-high','temp temp-low'])\n",
    "    short_desc = d.find('p',class_='short-desc')\n",
    "    \n",
    "    period.append(day.text)\n",
    "    temperature.append(temp.text)\n",
    "    short_description.append(short_desc.text)\n",
    "\n",
    "for d in weather_forecast.find_all('div',class_='col-sm-10 forecast-text'):\n",
    "    description.append(d.text)\n",
    "\n",
    "full_description = description[:len(period)]\n"
   ]
  },
  {
   "cell_type": "code",
   "execution_count": 170,
   "metadata": {},
   "outputs": [
    {
     "name": "stdout",
     "output_type": "stream",
     "text": [
      "\n",
      "Extended 7 day Forecast for San Francisco\n",
      "\n"
     ]
    },
    {
     "data": {
      "text/html": [
       "<div>\n",
       "<style scoped>\n",
       "    .dataframe tbody tr th:only-of-type {\n",
       "        vertical-align: middle;\n",
       "    }\n",
       "\n",
       "    .dataframe tbody tr th {\n",
       "        vertical-align: top;\n",
       "    }\n",
       "\n",
       "    .dataframe thead th {\n",
       "        text-align: right;\n",
       "    }\n",
       "</style>\n",
       "<table border=\"1\" class=\"dataframe\">\n",
       "  <thead>\n",
       "    <tr style=\"text-align: right;\">\n",
       "      <th></th>\n",
       "      <th>Period</th>\n",
       "      <th>Temperature</th>\n",
       "      <th>short_description</th>\n",
       "      <th>full_description</th>\n",
       "    </tr>\n",
       "  </thead>\n",
       "  <tbody>\n",
       "    <tr>\n",
       "      <th>0</th>\n",
       "      <td>ThisAfternoon</td>\n",
       "      <td>High: 65 °F⇓</td>\n",
       "      <td>Sunny andBreezy</td>\n",
       "      <td>Sunny, with a temperature falling to around 62...</td>\n",
       "    </tr>\n",
       "    <tr>\n",
       "      <th>1</th>\n",
       "      <td>Tonight</td>\n",
       "      <td>Low: 52 °F</td>\n",
       "      <td>Partly Cloudyand Breezythen MostlyCloudy</td>\n",
       "      <td>Increasing clouds, with a low around 52. Breez...</td>\n",
       "    </tr>\n",
       "    <tr>\n",
       "      <th>2</th>\n",
       "      <td>Wednesday</td>\n",
       "      <td>High: 64 °F</td>\n",
       "      <td>Partly Sunnythen Sunnyand Breezy</td>\n",
       "      <td>Mostly cloudy, then gradually becoming sunny, ...</td>\n",
       "    </tr>\n",
       "    <tr>\n",
       "      <th>3</th>\n",
       "      <td>WednesdayNight</td>\n",
       "      <td>Low: 53 °F</td>\n",
       "      <td>Partly Cloudyand Breezythen PartlyCloudy</td>\n",
       "      <td>Partly cloudy, with a low around 53. Breezy, w...</td>\n",
       "    </tr>\n",
       "    <tr>\n",
       "      <th>4</th>\n",
       "      <td>Thursday</td>\n",
       "      <td>High: 66 °F</td>\n",
       "      <td>Mostly Sunnythen Sunnyand Breezy</td>\n",
       "      <td>Mostly sunny, with a high near 66. Breezy, wit...</td>\n",
       "    </tr>\n",
       "    <tr>\n",
       "      <th>5</th>\n",
       "      <td>ThursdayNight</td>\n",
       "      <td>Low: 54 °F</td>\n",
       "      <td>Mostly Clearand Breezythen PartlyCloudy</td>\n",
       "      <td>Mostly clear, with a low around 54. Breezy.</td>\n",
       "    </tr>\n",
       "    <tr>\n",
       "      <th>6</th>\n",
       "      <td>Friday</td>\n",
       "      <td>High: 66 °F</td>\n",
       "      <td>Mostly Sunny</td>\n",
       "      <td>Mostly sunny, with a high near 66.</td>\n",
       "    </tr>\n",
       "    <tr>\n",
       "      <th>7</th>\n",
       "      <td>FridayNight</td>\n",
       "      <td>Low: 52 °F</td>\n",
       "      <td>Mostly Clear</td>\n",
       "      <td>Mostly clear, with a low around 52.</td>\n",
       "    </tr>\n",
       "    <tr>\n",
       "      <th>8</th>\n",
       "      <td>Saturday</td>\n",
       "      <td>High: 68 °F</td>\n",
       "      <td>Sunny</td>\n",
       "      <td>Sunny, with a high near 68.</td>\n",
       "    </tr>\n",
       "  </tbody>\n",
       "</table>\n",
       "</div>"
      ],
      "text/plain": [
       "           Period   Temperature                         short_description  \\\n",
       "0   ThisAfternoon  High: 65 °F⇓                           Sunny andBreezy   \n",
       "1         Tonight    Low: 52 °F  Partly Cloudyand Breezythen MostlyCloudy   \n",
       "2       Wednesday   High: 64 °F          Partly Sunnythen Sunnyand Breezy   \n",
       "3  WednesdayNight    Low: 53 °F  Partly Cloudyand Breezythen PartlyCloudy   \n",
       "4        Thursday   High: 66 °F          Mostly Sunnythen Sunnyand Breezy   \n",
       "5   ThursdayNight    Low: 54 °F   Mostly Clearand Breezythen PartlyCloudy   \n",
       "6          Friday   High: 66 °F                              Mostly Sunny   \n",
       "7     FridayNight    Low: 52 °F                              Mostly Clear   \n",
       "8        Saturday   High: 68 °F                                     Sunny   \n",
       "\n",
       "                                    full_description  \n",
       "0  Sunny, with a temperature falling to around 62...  \n",
       "1  Increasing clouds, with a low around 52. Breez...  \n",
       "2  Mostly cloudy, then gradually becoming sunny, ...  \n",
       "3  Partly cloudy, with a low around 53. Breezy, w...  \n",
       "4  Mostly sunny, with a high near 66. Breezy, wit...  \n",
       "5       Mostly clear, with a low around 54. Breezy.   \n",
       "6                 Mostly sunny, with a high near 66.  \n",
       "7                Mostly clear, with a low around 52.  \n",
       "8                        Sunny, with a high near 68.  "
      ]
     },
     "execution_count": 170,
     "metadata": {},
     "output_type": "execute_result"
    }
   ],
   "source": [
    "Extended_Forecast = pd.DataFrame({})\n",
    "Extended_Forecast['Period'] = period\n",
    "Extended_Forecast['Temperature'] = temperature\n",
    "Extended_Forecast['short_description'] = short_description\n",
    "Extended_Forecast['full_description'] = description[:len(period)]\n",
    "\n",
    "print(\"\\nExtended 7 day Forecast for San Francisco\\n\")\n",
    "Extended_Forecast\n",
    "\n",
    "\n"
   ]
  },
  {
   "cell_type": "markdown",
   "metadata": {},
   "source": [
    "# Fresher Job listings from internshaala.com"
   ]
  },
  {
   "cell_type": "code",
   "execution_count": 171,
   "metadata": {},
   "outputs": [],
   "source": [
    "all_url = ['https://internshala.com/fresher-jobs','https://internshala.com/fresher-jobs/page-2','https://internshala.com/fresher-jobs/page-3']\n",
    "\n",
    "job_title = []\n",
    "company_name = []\n",
    "CTC =[]\n",
    "Apply_by = []\n",
    "for url in all_url:\n",
    "    bs_jobs = BeautifulSoup(requests.get(url).content,'html.parser')\\\n",
    "    \n",
    "    for d in bs_jobs.find_all('div',class_='heading_4_5 profile'):\n",
    "        job_title.append(d.get_text('a').replace('\\na',''))\n",
    "        \n",
    "    for d in bs_jobs.find_all('a',class_='link_display_like_text'):\n",
    "        company_name.append(d.get_text('a').replace('\\n',''))\n",
    "\n",
    "    for d in bs_jobs.find_all('div',class_='container-fluid individual_internship visibilityTrackerItem'):\n",
    "        x = d.find_all('div',class_='item_body')[1]\n",
    "        CTC.append(x.get_text().replace('\\n','').strip())\n",
    "        \n",
    "    for d in bs_jobs.find_all('div',class_='container-fluid individual_internship visibilityTrackerItem'):      \n",
    "        x = d.find_all('div',class_='item_body')[2]\n",
    "        Apply_by.append(x.get_text())\n",
    "\n",
    "    "
   ]
  },
  {
   "cell_type": "code",
   "execution_count": 172,
   "metadata": {},
   "outputs": [
    {
     "name": "stdout",
     "output_type": "stream",
     "text": [
      "\n",
      " Freshers Job Listing in internshala \n",
      "\n"
     ]
    },
    {
     "data": {
      "text/html": [
       "<div>\n",
       "<style scoped>\n",
       "    .dataframe tbody tr th:only-of-type {\n",
       "        vertical-align: middle;\n",
       "    }\n",
       "\n",
       "    .dataframe tbody tr th {\n",
       "        vertical-align: top;\n",
       "    }\n",
       "\n",
       "    .dataframe thead th {\n",
       "        text-align: right;\n",
       "    }\n",
       "</style>\n",
       "<table border=\"1\" class=\"dataframe\">\n",
       "  <thead>\n",
       "    <tr style=\"text-align: right;\">\n",
       "      <th></th>\n",
       "      <th>Job_Titles</th>\n",
       "      <th>Company_Name</th>\n",
       "      <th>CTC</th>\n",
       "      <th>Apply_by</th>\n",
       "    </tr>\n",
       "  </thead>\n",
       "  <tbody>\n",
       "    <tr>\n",
       "      <th>0</th>\n",
       "      <td>Full Stack Developera</td>\n",
       "      <td>Wondermail            ...</td>\n",
       "      <td>4 - 7 LPA</td>\n",
       "      <td>1 Jul' 21</td>\n",
       "    </tr>\n",
       "    <tr>\n",
       "      <th>1</th>\n",
       "      <td>Full Stack Developer (MERN)a</td>\n",
       "      <td>Project Tinker        ...</td>\n",
       "      <td>4 - 7.2 LPA</td>\n",
       "      <td>1 Jul' 21</td>\n",
       "    </tr>\n",
       "    <tr>\n",
       "      <th>2</th>\n",
       "      <td>Business Development Executivea</td>\n",
       "      <td>Kaizen Academy        ...</td>\n",
       "      <td>4.5 - 6 LPA</td>\n",
       "      <td>1 Jul' 21</td>\n",
       "    </tr>\n",
       "    <tr>\n",
       "      <th>3</th>\n",
       "      <td>Sales Development Representativea</td>\n",
       "      <td>Amigobulls            ...</td>\n",
       "      <td>5.5 - 6.5 LPA</td>\n",
       "      <td>1 Jul' 21</td>\n",
       "    </tr>\n",
       "    <tr>\n",
       "      <th>4</th>\n",
       "      <td>Graphic Designera</td>\n",
       "      <td>Underground Movement L...</td>\n",
       "      <td>3 - 5 LPA</td>\n",
       "      <td>1 Jul' 21</td>\n",
       "    </tr>\n",
       "    <tr>\n",
       "      <th>...</th>\n",
       "      <td>...</td>\n",
       "      <td>...</td>\n",
       "      <td>...</td>\n",
       "      <td>...</td>\n",
       "    </tr>\n",
       "    <tr>\n",
       "      <th>94</th>\n",
       "      <td>International Business Development &amp; Service (...</td>\n",
       "      <td>HOSS - House Of Soft S...</td>\n",
       "      <td>4.1 - 7.2 LPA</td>\n",
       "      <td>3 Jun' 21</td>\n",
       "    </tr>\n",
       "    <tr>\n",
       "      <th>95</th>\n",
       "      <td>Data Scientista</td>\n",
       "      <td>Internshala           ...</td>\n",
       "      <td>6.6 - 8.8 LPA</td>\n",
       "      <td>3 Jun' 21</td>\n",
       "    </tr>\n",
       "    <tr>\n",
       "      <th>96</th>\n",
       "      <td>Associate Front End Developer - Shopifya</td>\n",
       "      <td>Seventh Triangle Consu...</td>\n",
       "      <td>3.2 - 3.6 LPA</td>\n",
       "      <td>2 Jun' 21</td>\n",
       "    </tr>\n",
       "    <tr>\n",
       "      <th>97</th>\n",
       "      <td>Software Development Engineer (Android)a</td>\n",
       "      <td>Internshala           ...</td>\n",
       "      <td>6.6 - 8.28 LPA</td>\n",
       "      <td>19 Jun' 21</td>\n",
       "    </tr>\n",
       "    <tr>\n",
       "      <th>98</th>\n",
       "      <td>International Business Development Associatea</td>\n",
       "      <td>HOSS - House Of Soft S...</td>\n",
       "      <td>4 - 7 LPA</td>\n",
       "      <td>3 Jun' 21</td>\n",
       "    </tr>\n",
       "  </tbody>\n",
       "</table>\n",
       "<p>99 rows × 4 columns</p>\n",
       "</div>"
      ],
      "text/plain": [
       "                                           Job_Titles  \\\n",
       "0                              Full Stack Developera    \n",
       "1                       Full Stack Developer (MERN)a    \n",
       "2                    Business Development Executivea    \n",
       "3                  Sales Development Representativea    \n",
       "4                                  Graphic Designera    \n",
       "..                                                ...   \n",
       "94  International Business Development & Service (...   \n",
       "95                                   Data Scientista    \n",
       "96          Associate Front End Developer - Shopifya    \n",
       "97          Software Development Engineer (Android)a    \n",
       "98     International Business Development Associatea    \n",
       "\n",
       "                                         Company_Name             CTC  \\\n",
       "0                           Wondermail            ...       4 - 7 LPA   \n",
       "1                           Project Tinker        ...     4 - 7.2 LPA   \n",
       "2                           Kaizen Academy        ...     4.5 - 6 LPA   \n",
       "3                           Amigobulls            ...   5.5 - 6.5 LPA   \n",
       "4                           Underground Movement L...       3 - 5 LPA   \n",
       "..                                                ...             ...   \n",
       "94                          HOSS - House Of Soft S...   4.1 - 7.2 LPA   \n",
       "95                          Internshala           ...   6.6 - 8.8 LPA   \n",
       "96                          Seventh Triangle Consu...   3.2 - 3.6 LPA   \n",
       "97                          Internshala           ...  6.6 - 8.28 LPA   \n",
       "98                          HOSS - House Of Soft S...       4 - 7 LPA   \n",
       "\n",
       "      Apply_by  \n",
       "0    1 Jul' 21  \n",
       "1    1 Jul' 21  \n",
       "2    1 Jul' 21  \n",
       "3    1 Jul' 21  \n",
       "4    1 Jul' 21  \n",
       "..         ...  \n",
       "94   3 Jun' 21  \n",
       "95   3 Jun' 21  \n",
       "96   2 Jun' 21  \n",
       "97  19 Jun' 21  \n",
       "98   3 Jun' 21  \n",
       "\n",
       "[99 rows x 4 columns]"
      ]
     },
     "execution_count": 172,
     "metadata": {},
     "output_type": "execute_result"
    }
   ],
   "source": [
    "Freshers_job = pd.DataFrame({})\n",
    "Freshers_job['Job_Titles'] = job_title\n",
    "Freshers_job['Company_Name'] = company_name\n",
    "Freshers_job['CTC'] = CTC\n",
    "Freshers_job['Apply_by'] = Apply_by\n",
    "\n",
    "print('\\n Freshers Job Listing in internshala \\n')\n",
    "Freshers_job"
   ]
  },
  {
   "cell_type": "code",
   "execution_count": null,
   "metadata": {},
   "outputs": [],
   "source": []
  },
  {
   "cell_type": "code",
   "execution_count": null,
   "metadata": {},
   "outputs": [],
   "source": []
  },
  {
   "cell_type": "code",
   "execution_count": null,
   "metadata": {},
   "outputs": [],
   "source": []
  },
  {
   "cell_type": "code",
   "execution_count": null,
   "metadata": {},
   "outputs": [],
   "source": []
  },
  {
   "cell_type": "code",
   "execution_count": null,
   "metadata": {},
   "outputs": [],
   "source": []
  },
  {
   "cell_type": "code",
   "execution_count": null,
   "metadata": {},
   "outputs": [],
   "source": []
  },
  {
   "cell_type": "code",
   "execution_count": null,
   "metadata": {},
   "outputs": [],
   "source": []
  }
 ],
 "metadata": {
  "kernelspec": {
   "display_name": "Python 3",
   "language": "python",
   "name": "python3"
  },
  "language_info": {
   "codemirror_mode": {
    "name": "ipython",
    "version": 3
   },
   "file_extension": ".py",
   "mimetype": "text/x-python",
   "name": "python",
   "nbconvert_exporter": "python",
   "pygments_lexer": "ipython3",
   "version": "3.8.5"
  }
 },
 "nbformat": 4,
 "nbformat_minor": 4
}
